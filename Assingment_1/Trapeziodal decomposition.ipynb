{
 "cells": [
  {
   "cell_type": "code",
   "execution_count": null,
   "id": "594620c2",
   "metadata": {},
   "outputs": [],
   "source": []
  },
  {
   "cell_type": "code",
   "execution_count": null,
   "id": "8a433ec0",
   "metadata": {},
   "outputs": [],
   "source": []
  },
  {
   "cell_type": "markdown",
   "id": "20b0baa5",
   "metadata": {},
   "source": [
    "## q) 7"
   ]
  },
  {
   "cell_type": "markdown",
   "id": "684d7f9c",
   "metadata": {},
   "source": [
    "## Path map"
   ]
  },
  {
   "cell_type": "code",
   "execution_count": 30,
   "id": "8e601ce2",
   "metadata": {},
   "outputs": [
    {
     "data": {
      "image/png": "[encoded data removed]",
      "text/plain": [
       "<Figure size 864x432 with 1 Axes>"
      ]
     },
     "metadata": {
      "needs_background": "light"
     },
     "output_type": "display_data"
    }
   ],
   "source": [
    "import matplotlib.pyplot as plt\n",
    "from sympy.geometry import Point, Line, Polygon\n",
    "def make_Polygon(poly):\n",
    "    if not isinstance(poly, Polygon):\n",
    "        return Polygon(*poly)\n",
    "    else:\n",
    "        return poly\n",
    "environment = make_Polygon(((-0.05, 0.5), (0.05, 0.5), (0.05, -0.55), (1.45, -0.55), (1.45, 0.25), (0.75, 0.25),\n",
    "                            (0.75, -0.25), (0.65, -0.25), (0.65, 0.35), (1.55, 0.35), (1.55, -0.65), (-0.05, -0.65)))\n",
    "\n",
    "fig, ax = plt.subplots(figsize=(12, 6))\n",
    "\n",
    "plt.fill([environment.vertices[i].x for i in range(len(environment.vertices))], [\n",
    "         environment.vertices[i].y for i in range(len(environment.vertices))], color='black')\n",
    "\n",
    "ax.set_xlim([-2, 2])\n",
    "ax.set_ylim([-1, 1])\n",
    "\n",
    "plt.show()"
   ]
  },
  {
   "cell_type": "markdown",
   "id": "68da5fca",
   "metadata": {},
   "source": [
    "## Trapeziodal decomposition"
   ]
  },
  {
   "cell_type": "code",
   "execution_count": 50,
   "id": "d72c81c2",
   "metadata": {},
   "outputs": [
    {
     "data": {
      "image/png": "[encoded data removed]",
      "text/plain": [
       "<Figure size 864x432 with 1 Axes>"
      ]
     },
     "metadata": {
      "needs_background": "light"
     },
     "output_type": "display_data"
    }
   ],
   "source": [
    "# (-0.05, 0.5), (0.05, 0.5), (0.05, -0.55), (1.45, -0.55), (1.45, 0.25), (0.75, 0.25),\n",
    "# (0.75, -0.25), (0.65, -0.25), (0.65, 0.35), (1.55, 0.35), (1.55, -0.65), (-0.05, -0.65)))\n",
    "trapezoids = [\n",
    "    Polygon((-2, -1), (-2, 1), (-0.05, 1), (-0.05, -1)),\n",
    "    Polygon((-0.05, 1), (-0.05, 0.5), (0.05, 0.5), (0.05, 1)),\n",
    "    Polygon((0.05, 1), (0.05, -0.55), (0.65, -0.55), (0.65, 1)),\n",
    "    Polygon((0.65, -0.25), (0.65, -0.55), (0.75, -0.55), (0.75, -0.25)),\n",
    "    Polygon((0.75, 0.25), (0.75, -0.55), (1.45, -0.55), (1.45, 0.25)),\n",
    "    Polygon((0.65, 1), (0.65, 0.35), (1.55, 0.35), (1.55, 1)),\n",
    "    Polygon((1.55, 1), (1.55, -1), (2, -1), (2, 1)),\n",
    "    Polygon((1.55, -0.65), (1.55, -1), (-0.05, -1), (-0.05, -0.65))\n",
    "]\n",
    "\n",
    "fig, ax = plt.subplots(figsize=(12, 6))\n",
    "\n",
    "plt.fill([environment.vertices[i].x for i in range(len(environment.vertices))], [\n",
    "         environment.vertices[i].y for i in range(len(environment.vertices))], color='black')\n",
    "colours=[]\n",
    "for i in range(0,8):\n",
    "    if(i%2==0):\n",
    "        colours.append('g')\n",
    "    else:\n",
    "        colours.append('r')\n",
    "    \n",
    "for i, poly in enumerate(trapezoids):\n",
    "    plt.fill([poly.vertices[i].x for i in range(len(poly.vertices))], [\n",
    "             poly.vertices[i].y for i in range(len(poly.vertices))], color=colours[i], alpha=0.6)\n",
    "    ax.annotate(f'C{i}', (poly.centroid.x - 0.04, poly.centroid.y))\n",
    "\n",
    "ax.set_xlim([-2, 2])\n",
    "ax.set_ylim([-1, 1])\n",
    "\n",
    "plt.show()"
   ]
  },
  {
   "cell_type": "code",
   "execution_count": null,
   "id": "02faa60c",
   "metadata": {},
   "outputs": [],
   "source": []
  }
 ],
 "metadata": {
  "kernelspec": {
   "display_name": "Python 3",
   "language": "python",
   "name": "python3"
  },
  "language_info": {
   "codemirror_mode": {
    "name": "ipython",
    "version": 3
   },
   "file_extension": ".py",
   "mimetype": "text/x-python",
   "name": "python",
   "nbconvert_exporter": "python",
   "pygments_lexer": "ipython3",
   "version": "3.8.8"
  }
 },
 "nbformat": 4,
 "nbformat_minor": 5
}
